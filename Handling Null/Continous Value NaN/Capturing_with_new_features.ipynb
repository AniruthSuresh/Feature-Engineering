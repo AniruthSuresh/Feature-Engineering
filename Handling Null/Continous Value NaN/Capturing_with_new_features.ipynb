{
 "cells": [
  {
   "cell_type": "markdown",
   "id": "ae07f0f5-1fc4-495c-a895-4db67f1697d5",
   "metadata": {},
   "source": [
    "### METHOD 3 : CAPTURING NAN VALUES WITH A NEW FEATURE"
   ]
  },
  {
   "cell_type": "code",
   "execution_count": 15,
   "id": "abe65bcc-e05e-4b10-b852-6a3d18959056",
   "metadata": {},
   "outputs": [],
   "source": [
    "import pandas as pd"
   ]
  },
  {
   "cell_type": "code",
   "execution_count": 16,
   "id": "3950523e-8c7b-4ad1-9ad2-41eb34d85def",
   "metadata": {},
   "outputs": [
    {
     "data": {
      "text/plain": [
       "Survived      0\n",
       "Age         177\n",
       "Fare          0\n",
       "dtype: int64"
      ]
     },
     "execution_count": 16,
     "metadata": {},
     "output_type": "execute_result"
    }
   ],
   "source": [
    "df = pd.read_csv(\"train.csv\",usecols = ['Age',\"Fare\",'Survived'])\n",
    "df.isnull().sum()\n",
    "\n",
    "# print(df.shape)"
   ]
  },
  {
   "cell_type": "code",
   "execution_count": 17,
   "id": "e86bc866-8416-4444-9e03-44caabce1a0c",
   "metadata": {},
   "outputs": [],
   "source": [
    "# make an additional feature to indiacate the presense of NAN values and then replace the value\n",
    "# with med (or) random sample\n",
    "\n",
    "# Creating new feature\n",
    "import numpy as np\n",
    "df[\"Age_NAN\"] = np.where(df[\"Age\"].isnull(),1,0)\n"
   ]
  },
  {
   "cell_type": "code",
   "execution_count": 18,
   "id": "e8e358b3-6d6d-4747-bd01-f70bff5018c7",
   "metadata": {},
   "outputs": [],
   "source": [
    "def impute_NAN(df,variable,median):\n",
    "    df[variable] = df[variable].fillna(median) # fillna -> replace the NULL values with the specified value\n",
    "    return df\n",
    "    \n",
    "df = impute_NAN(df,\"Age\",df[\"Age\"].median())\n",
    "\n"
   ]
  },
  {
   "cell_type": "code",
   "execution_count": 19,
   "id": "e7b43f8e-409b-4686-bfef-8dca6c723cf4",
   "metadata": {},
   "outputs": [
    {
     "data": {
      "text/plain": [
       "Survived    0\n",
       "Age         0\n",
       "Fare        0\n",
       "Age_NAN     0\n",
       "dtype: int64"
      ]
     },
     "execution_count": 19,
     "metadata": {},
     "output_type": "execute_result"
    }
   ],
   "source": [
    "df.head(50)\n",
    "\n",
    "# df.isnull().sum()"
   ]
  },
  {
   "cell_type": "code",
   "execution_count": null,
   "id": "f957f797-4675-42d4-bcf1-1a36e6083cc8",
   "metadata": {},
   "outputs": [],
   "source": [
    "# Disadvatage : Multiple new features will be created "
   ]
  }
 ],
 "metadata": {
  "kernelspec": {
   "display_name": "Python 3 (ipykernel)",
   "language": "python",
   "name": "python3"
  },
  "language_info": {
   "codemirror_mode": {
    "name": "ipython",
    "version": 3
   },
   "file_extension": ".py",
   "mimetype": "text/x-python",
   "name": "python",
   "nbconvert_exporter": "python",
   "pygments_lexer": "ipython3",
   "version": "3.11.7"
  }
 },
 "nbformat": 4,
 "nbformat_minor": 5
}
