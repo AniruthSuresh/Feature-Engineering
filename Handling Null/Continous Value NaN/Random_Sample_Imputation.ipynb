{
 "cells": [
  {
   "cell_type": "markdown",
   "id": "0229b008-a6b4-4cbc-a2bc-03c3cf467634",
   "metadata": {},
   "source": [
    "### METHOD 2 : RANDOM SAMPLE IMPUTATION "
   ]
  },
  {
   "cell_type": "markdown",
   "id": "4ef92ce5-c87f-49cd-b7b4-d66bc0abba82",
   "metadata": {},
   "source": [
    "Aim: Random sample imputation consists of taking random observation from the dataset and we use this observation to replace the nan values.It assumes that the data are missing completely at random(MCAR)"
   ]
  },
  {
   "cell_type": "code",
   "execution_count": 1,
   "id": "5cb605aa-9bef-4377-9cd5-969417601f17",
   "metadata": {},
   "outputs": [],
   "source": [
    "import pandas as pd"
   ]
  },
  {
   "cell_type": "code",
   "execution_count": 23,
   "id": "5e118657-75a5-4ecf-9e87-56f1c9b89c1e",
   "metadata": {},
   "outputs": [
    {
     "data": {
      "text/plain": [
       "Survived      0\n",
       "Age         177\n",
       "Fare          0\n",
       "dtype: int64"
      ]
     },
     "execution_count": 23,
     "metadata": {},
     "output_type": "execute_result"
    }
   ],
   "source": [
    "df = pd.read_csv(\"train.csv\",usecols = ['Age',\"Fare\",'Survived'])\n",
    "df.isnull().sum()\n",
    "\n",
    "# print(df.shape)"
   ]
  },
  {
   "cell_type": "code",
   "execution_count": 24,
   "id": "48b552ec-1703-4864-9363-b31c7b60a755",
   "metadata": {},
   "outputs": [
    {
     "name": "stdout",
     "output_type": "stream",
     "text": [
      "577    39.0\n",
      "Name: Age, dtype: float64\n",
      "349    42.0\n",
      "808    39.0\n",
      "380    42.0\n",
      "845    42.0\n",
      "96     71.0\n",
      "       ... \n",
      "556    48.0\n",
      "623    21.0\n",
      "331    45.5\n",
      "267    25.0\n",
      "482    50.0\n",
      "Name: Age, Length: 177, dtype: float64\n",
      "(891, 3)\n"
     ]
    }
   ],
   "source": [
    "print(df['Age'].dropna().sample()) # drop the null values in age and then pick a random value \n",
    "\n",
    "# now these values have to replace the null values , so :\n",
    "\n",
    "print(df['Age'].dropna().sample(df[\"Age\"].isnull().sum(),random_state = 30))\n",
    "\n",
    "# take the values from the age which are not null and then replace the values which are null\n",
    "\n",
    "print(df.shape)"
   ]
  },
  {
   "cell_type": "code",
   "execution_count": 15,
   "id": "3cd14164-ae1f-4aa7-a4f4-8d0935c565b0",
   "metadata": {},
   "outputs": [
    {
     "data": {
      "text/plain": [
       "Index([  5,  17,  19,  26,  28,  29,  31,  32,  36,  42,\n",
       "       ...\n",
       "       832, 837, 839, 846, 849, 859, 863, 868, 878, 888],\n",
       "      dtype='int64', length=177)"
      ]
     },
     "execution_count": 15,
     "metadata": {},
     "output_type": "execute_result"
    }
   ],
   "source": [
    "# now indexing of these NULL are not proper , so we need to change them before merging\n",
    "\n",
    "df[df[\"Age\"].isnull()].index"
   ]
  },
  {
   "cell_type": "code",
   "execution_count": 16,
   "id": "5e154ae4-6c27-4c0d-93e9-99ce9a322832",
   "metadata": {},
   "outputs": [],
   "source": [
    "def impute_NAN(df,variable,median):\n",
    "    \n",
    "    df[variable+\"_median\"] = df[variable].fillna(median) # fillna -> replace the NULL values with the specified value\n",
    "    df[variable+\"_random\"] = df[variable] # make a copy\n",
    "\n",
    "    # fill the NAN values with the random values which are not null\n",
    "    random_sample = df[variable].dropna().sample(df[variable].isnull().sum(),random_state = 30)\n",
    "\n",
    "    # indexing should match \n",
    "    random_sample.index = df[df[variable].isnull()].index\n",
    "\n",
    "    # wherever variable is NULL , go to new col same row and replace it there \n",
    "    df.loc[df[variable].isnull(),variable+\"_random\"] = random_sample\n",
    "    \n",
    "    return df"
   ]
  },
  {
   "cell_type": "code",
   "execution_count": 19,
   "id": "eaf015b4-16c8-4dec-a286-022d0869e321",
   "metadata": {},
   "outputs": [
    {
     "data": {
      "text/html": [
       "<div>\n",
       "<style scoped>\n",
       "    .dataframe tbody tr th:only-of-type {\n",
       "        vertical-align: middle;\n",
       "    }\n",
       "\n",
       "    .dataframe tbody tr th {\n",
       "        vertical-align: top;\n",
       "    }\n",
       "\n",
       "    .dataframe thead th {\n",
       "        text-align: right;\n",
       "    }\n",
       "</style>\n",
       "<table border=\"1\" class=\"dataframe\">\n",
       "  <thead>\n",
       "    <tr style=\"text-align: right;\">\n",
       "      <th></th>\n",
       "      <th>Survived</th>\n",
       "      <th>Age</th>\n",
       "      <th>Fare</th>\n",
       "      <th>Age_median</th>\n",
       "      <th>Age_random</th>\n",
       "    </tr>\n",
       "  </thead>\n",
       "  <tbody>\n",
       "    <tr>\n",
       "      <th>0</th>\n",
       "      <td>0</td>\n",
       "      <td>22.0</td>\n",
       "      <td>7.2500</td>\n",
       "      <td>22.0</td>\n",
       "      <td>22.0</td>\n",
       "    </tr>\n",
       "    <tr>\n",
       "      <th>1</th>\n",
       "      <td>1</td>\n",
       "      <td>38.0</td>\n",
       "      <td>71.2833</td>\n",
       "      <td>38.0</td>\n",
       "      <td>38.0</td>\n",
       "    </tr>\n",
       "    <tr>\n",
       "      <th>2</th>\n",
       "      <td>1</td>\n",
       "      <td>26.0</td>\n",
       "      <td>7.9250</td>\n",
       "      <td>26.0</td>\n",
       "      <td>26.0</td>\n",
       "    </tr>\n",
       "    <tr>\n",
       "      <th>3</th>\n",
       "      <td>1</td>\n",
       "      <td>35.0</td>\n",
       "      <td>53.1000</td>\n",
       "      <td>35.0</td>\n",
       "      <td>35.0</td>\n",
       "    </tr>\n",
       "    <tr>\n",
       "      <th>4</th>\n",
       "      <td>0</td>\n",
       "      <td>35.0</td>\n",
       "      <td>8.0500</td>\n",
       "      <td>35.0</td>\n",
       "      <td>35.0</td>\n",
       "    </tr>\n",
       "  </tbody>\n",
       "</table>\n",
       "</div>"
      ],
      "text/plain": [
       "   Survived   Age     Fare  Age_median  Age_random\n",
       "0         0  22.0   7.2500        22.0        22.0\n",
       "1         1  38.0  71.2833        38.0        38.0\n",
       "2         1  26.0   7.9250        26.0        26.0\n",
       "3         1  35.0  53.1000        35.0        35.0\n",
       "4         0  35.0   8.0500        35.0        35.0"
      ]
     },
     "execution_count": 19,
     "metadata": {},
     "output_type": "execute_result"
    }
   ],
   "source": [
    "impute_NAN(df,\"Age\",df[\"Age\"].median())\n",
    "\n",
    "df.head(5)"
   ]
  },
  {
   "cell_type": "code",
   "execution_count": 20,
   "id": "12b20686-9241-4ee1-8fdf-673c942c5962",
   "metadata": {},
   "outputs": [
    {
     "data": {
      "text/plain": [
       "Survived        0\n",
       "Age           177\n",
       "Fare            0\n",
       "Age_median      0\n",
       "Age_random      0\n",
       "dtype: int64"
      ]
     },
     "execution_count": 20,
     "metadata": {},
     "output_type": "execute_result"
    }
   ],
   "source": [
    "df.isnull().sum()"
   ]
  },
  {
   "cell_type": "code",
   "execution_count": 22,
   "id": "392021b9-f3f0-41cc-9b0a-3cc5f8c63c78",
   "metadata": {},
   "outputs": [
    {
     "data": {
      "text/plain": [
       "<matplotlib.legend.Legend at 0x75cb525c3690>"
      ]
     },
     "execution_count": 22,
     "metadata": {},
     "output_type": "execute_result"
    },
    {
     "data": {
      "image/png": "[encoded data removed]",
      "text/plain": [
       "<Figure size 640x480 with 1 Axes>"
      ]
     },
     "metadata": {},
     "output_type": "display_data"
    }
   ],
   "source": [
    "# Kernet Density Estimators !\n",
    "from matplotlib import pyplot as plt\n",
    "\n",
    "\n",
    "fig = plt.figure()\n",
    "ax = fig.add_subplot(111)\n",
    "df['Age'].plot(kind='kde', ax=ax)\n",
    "df.Age_median.plot(kind='kde', ax=ax, color='red')\n",
    "df.Age_random.plot(kind='kde', ax=ax, color='black')\n",
    "\n",
    "lines, labels = ax.get_legend_handles_labels()\n",
    "ax.legend(lines, labels, loc='best')\n",
    "\n",
    "\n",
    "# clearly the distribution is very close to the variable !! -> almost no change "
   ]
  }
 ],
 "metadata": {
  "kernelspec": {
   "display_name": "Python 3 (ipykernel)",
   "language": "python",
   "name": "python3"
  },
  "language_info": {
   "codemirror_mode": {
    "name": "ipython",
    "version": 3
   },
   "file_extension": ".py",
   "mimetype": "text/x-python",
   "name": "python",
   "nbconvert_exporter": "python",
   "pygments_lexer": "ipython3",
   "version": "3.11.7"
  }
 },
 "nbformat": 4,
 "nbformat_minor": 5
}
